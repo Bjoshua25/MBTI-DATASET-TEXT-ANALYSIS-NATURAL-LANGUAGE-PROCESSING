{
  "cells": [
    {
      "cell_type": "markdown",
      "metadata": {
        "id": "xpIPMNPoU_-p"
      },
      "source": [
        "# MBTI Dataset Text Analysis | Natural Language Processing Project"
      ]
    },
    {
      "cell_type": "markdown",
      "metadata": {
        "id": "lKmhMwlDU_-u"
      },
      "source": [
        "## NLTK"
      ]
    },
    {
      "cell_type": "markdown",
      "metadata": {
        "id": "ubXxX-njU_-u"
      },
      "source": [
        "NLTK – Natural Language Toolkit – is a widely used library for building Python programs to work with human language data. It provides interfaces to numerous corpora and lexical resources, such as WordNet, along with a suite of text-processing libraries for classification, tokenisation, stemming, tagging, parsing, and semantic reasoning. Additionally, NLTK offers wrappers for various NLP libraries and features an active discussion forum.\n",
        "\n",
        "Thanks to a hands-on guide introducing programming fundamentals alongside topics in computational linguistics, plus comprehensive API documentation, NLTK is suitable for linguists, engineers, students, educators, researchers, and industry users alike. NLTK is available for Windows, Mac OS X, and Linux. Best of all, NLTK is a free, open-source, community-driven project.\n",
        "\n",
        "Let's import `nltk` and other packages to get started."
      ]
    },
    {
      "cell_type": "code",
      "execution_count": 1,
      "metadata": {
        "id": "OQm0O5XHU_-z",
        "jupyter": {
          "outputs_hidden": true
        }
      },
      "outputs": [],
      "source": [
        "# Import necessary libraries\n",
        "import nltk\n",
        "\n",
        "import numpy as np\n",
        "import pandas as pd\n",
        "\n",
        "import matplotlib.pyplot as plt\n",
        "%matplotlib inline\n",
        "import seaborn as sns\n",
        "import re\n",
        "\n",
        "# set plot style\n",
        "sns.set_theme()"
      ]
    },
    {
      "cell_type": "markdown",
      "metadata": {
        "id": "PqqX0htghxw8"
      },
      "source": [
        "### Downloading NLTK corpora"
      ]
    },
    {
      "cell_type": "markdown",
      "metadata": {
        "id": "C68jzOFpU_-2"
      },
      "source": [
        "\n",
        "Several text processing methods introduced in the NLTK require accessing predefined language resources, such as [stop word lists](https://www.geeksforgeeks.org/removing-stop-words-nltk-python/). For instance, when identifying stop words within a text, NLTK relies on a [corpus](https://en.wikipedia.org/wiki/Text_corpus) containing such words. This corpus serves as a reference for the lookup operation during text processing. To ensure seamless execution of NLTK methods, it's essential to download the required corpora beforehand. Failure to do so may result in lookup errors during tokenisation and stop word removal processes. Fortunately, we can pre-emptively address these issues by downloading the necessary corpora using the NLTK downloader tool."
      ]
    },
    {
      "cell_type": "code",
      "execution_count": null,
      "metadata": {
        "id": "w8Iw1yCRU_-2"
      },
      "outputs": [],
      "source": [
        "# Download NLTK corpora\n",
        "nltk.download()"
      ]
    },
    {
      "cell_type": "markdown",
      "metadata": {
        "id": "lct3bK9aU_-7"
      },
      "source": [
        "You should see a pop-up box similar to the one shown below.\n",
        "\n",
        "Note: The box might appear in the background, in which case you can use alt + tab to switch to the downloader window.\n",
        "\n",
        "<img src=\"https://github.com/Explore-AI/Pictures/blob/master/nltk_downloader.png?raw=true\" width=50%/>\n",
        "\n",
        "Use it to navigate to the items we need to download:\n",
        "\n",
        "* Stopwords corpus (under the Corpora tab)\n",
        "* Punkt tokenizer models (under the Models tab)"
      ]
    },
    {
      "cell_type": "code",
      "execution_count": 2,
      "metadata": {
        "colab": {
          "base_uri": "https://localhost:8080/"
        },
        "id": "HhoRTAwgU_-7",
        "jupyter": {
          "outputs_hidden": true
        },
        "outputId": "607af8e2-21aa-4c50-e365-b015ee9fc1e6"
      },
      "outputs": [
        {
          "output_type": "stream",
          "name": "stderr",
          "text": [
            "[nltk_data] Downloading package punkt to /root/nltk_data...\n",
            "[nltk_data]   Unzipping tokenizers/punkt.zip.\n",
            "[nltk_data] Downloading package stopwords to /root/nltk_data...\n",
            "[nltk_data]   Unzipping corpora/stopwords.zip.\n"
          ]
        },
        {
          "output_type": "execute_result",
          "data": {
            "text/plain": [
              "True"
            ]
          },
          "metadata": {},
          "execution_count": 2
        }
      ],
      "source": [
        "# or we can download directly, i.e.\n",
        "nltk.download(['punkt','stopwords'])"
      ]
    },
    {
      "cell_type": "markdown",
      "metadata": {
        "id": "payI5uhvhxw-"
      },
      "source": [
        "If the download was successful, then the following import should work:"
      ]
    },
    {
      "cell_type": "code",
      "execution_count": 3,
      "metadata": {
        "jupyter": {
          "outputs_hidden": true
        },
        "id": "G48tiFubhxw_"
      },
      "outputs": [],
      "source": [
        "from nltk.corpus import stopwords"
      ]
    },
    {
      "cell_type": "markdown",
      "metadata": {
        "id": "QxoLNypghxw_"
      },
      "source": [
        "Although we'll explore stop words in greater detail later in this train, it won't hurt to take a quick look at what we've downloaded:"
      ]
    },
    {
      "cell_type": "code",
      "execution_count": 4,
      "metadata": {
        "colab": {
          "base_uri": "https://localhost:8080/"
        },
        "id": "Xs_ujBXjhxw_",
        "outputId": "370ca83d-f2c8-42c7-fb37-e84d487d280e"
      },
      "outputs": [
        {
          "output_type": "stream",
          "name": "stdout",
          "text": [
            "['a', 'about', 'above', 'after', 'again', 'against', 'ain', 'all', 'am', 'an', 'and', 'any', 'are', 'aren', \"aren't\", 'as', 'at', 'be', 'because', 'been', 'before', 'being', 'below', 'between', 'both', 'but', 'by', 'can', 'couldn', \"couldn't\", 'd', 'did', 'didn', \"didn't\", 'do', 'does', 'doesn', \"doesn't\", 'doing', 'don', \"don't\", 'down', 'during', 'each', 'few', 'for', 'from', 'further', 'had', 'hadn', \"hadn't\", 'has', 'hasn', \"hasn't\", 'have', 'haven', \"haven't\", 'having', 'he', \"he'd\", \"he'll\", 'her', 'here', 'hers', 'herself', \"he's\", 'him', 'himself', 'his', 'how', 'i', \"i'd\", 'if', \"i'll\", \"i'm\", 'in', 'into', 'is', 'isn', \"isn't\", 'it', \"it'd\", \"it'll\", \"it's\", 'its', 'itself', \"i've\", 'just', 'll', 'm', 'ma', 'me', 'mightn', \"mightn't\", 'more', 'most', 'mustn', \"mustn't\", 'my', 'myself', 'needn', \"needn't\", 'no', 'nor', 'not', 'now', 'o', 'of', 'off', 'on', 'once', 'only', 'or', 'other', 'our', 'ours', 'ourselves', 'out', 'over', 'own', 're', 's', 'same', 'shan', \"shan't\", 'she', \"she'd\", \"she'll\", \"she's\", 'should', 'shouldn', \"shouldn't\", \"should've\", 'so', 'some', 'such', 't', 'than', 'that', \"that'll\", 'the', 'their', 'theirs', 'them', 'themselves', 'then', 'there', 'these', 'they', \"they'd\", \"they'll\", \"they're\", \"they've\", 'this', 'those', 'through', 'to', 'too', 'under', 'until', 'up', 've', 'very', 'was', 'wasn', \"wasn't\", 'we', \"we'd\", \"we'll\", \"we're\", 'were', 'weren', \"weren't\", \"we've\", 'what', 'when', 'where', 'which', 'while', 'who', 'whom', 'why', 'will', 'with', 'won', \"won't\", 'wouldn', \"wouldn't\", 'y', 'you', \"you'd\", \"you'll\", 'your', \"you're\", 'yours', 'yourself', 'yourselves', \"you've\"]\n"
          ]
        }
      ],
      "source": [
        "# Get the list of English stop words\n",
        "stopwords_list = stopwords.words('english')\n",
        "print(stopwords_list)"
      ]
    },
    {
      "cell_type": "markdown",
      "metadata": {
        "id": "XpF_Rlynhxw_"
      },
      "source": [
        "## The MBTI dataset\n",
        "\n",
        "The Myers Briggs Type Indicator (or MBTI for short) is a personality type system that divides people into one of 16 distinct personality types across 4 axes:\n",
        "\n",
        "    Introversion (I) – Extroversion (E)\n",
        "    Intuition (N) – Sensing (S)\n",
        "    Thinking (T) – Feeling (F)\n",
        "    Judging (J) – Perceiving (P)\n",
        "\n",
        "[(More can be learned about what these mean here.)](https://www.myersbriggs.org/my-mbti-personality-type/mbti-basics/home.htm)\n",
        "\n",
        "So, for example, someone who prefers introversion, intuition, thinking, and perceiving would be labelled an INTP in the MBTI system, and there are lots of personality-based components that would model or describe this person’s preferences or behaviour based on their label.\n",
        "\n",
        "<img src='https://upload.wikimedia.org/wikipedia/commons/1/1f/MyersBriggsTypes.png'>\n",
        "\n",
        "Image by Jake Beech, [CC BY-SA 3.0](https://creativecommons.org/licenses/by-sa/3.0)\n",
        "\n",
        "In this train, we'll use a version of [the MBTI dataset](https://www.kaggle.com/datasnaek/mbti-type) which contains over 6000 rows of data, where on each row is a person’s:\n",
        "\n",
        " - MBTI type (four-letter MBTI code).\n",
        " - A section of each of the last 50 things they have posted online (each entry separated by \"|||\" (three pipe characters)).   \n",
        "\n",
        "_**Note:** If you are curious, you can find out what your MBTI personality is by taking the test here: https://www.16personalities.com/_"
      ]
    },
    {
      "cell_type": "markdown",
      "metadata": {
        "id": "oKeKPQWkU_-9"
      },
      "source": [
        "### Let's get the data and clean it up a bit."
      ]
    },
    {
      "cell_type": "code",
      "execution_count": 5,
      "metadata": {
        "colab": {
          "base_uri": "https://localhost:8080/",
          "height": 206
        },
        "id": "1g8hjHxFU_-9",
        "outputId": "ddc5d495-5392-4a5d-864c-43d82a9d82fd"
      },
      "outputs": [
        {
          "output_type": "execute_result",
          "data": {
            "text/plain": [
              "   type                                              posts\n",
              "0  INFJ  'http://www.youtube.com/watch?v=qsXHcwe3krw|||...\n",
              "1  ENTP  'I'm finding the lack of me in these posts ver...\n",
              "2  INTP  'Good one  _____   https://www.youtube.com/wat...\n",
              "3  INTJ  'Dear INTP,   I enjoyed our conversation the o...\n",
              "4  ENTJ  'You're fired.|||That's another silly misconce..."
            ],
            "text/html": [
              "\n",
              "  <div id=\"df-ebc59e45-d440-4379-b70e-eb04624494c0\" class=\"colab-df-container\">\n",
              "    <div>\n",
              "<style scoped>\n",
              "    .dataframe tbody tr th:only-of-type {\n",
              "        vertical-align: middle;\n",
              "    }\n",
              "\n",
              "    .dataframe tbody tr th {\n",
              "        vertical-align: top;\n",
              "    }\n",
              "\n",
              "    .dataframe thead th {\n",
              "        text-align: right;\n",
              "    }\n",
              "</style>\n",
              "<table border=\"1\" class=\"dataframe\">\n",
              "  <thead>\n",
              "    <tr style=\"text-align: right;\">\n",
              "      <th></th>\n",
              "      <th>type</th>\n",
              "      <th>posts</th>\n",
              "    </tr>\n",
              "  </thead>\n",
              "  <tbody>\n",
              "    <tr>\n",
              "      <th>0</th>\n",
              "      <td>INFJ</td>\n",
              "      <td>'http://www.youtube.com/watch?v=qsXHcwe3krw|||...</td>\n",
              "    </tr>\n",
              "    <tr>\n",
              "      <th>1</th>\n",
              "      <td>ENTP</td>\n",
              "      <td>'I'm finding the lack of me in these posts ver...</td>\n",
              "    </tr>\n",
              "    <tr>\n",
              "      <th>2</th>\n",
              "      <td>INTP</td>\n",
              "      <td>'Good one  _____   https://www.youtube.com/wat...</td>\n",
              "    </tr>\n",
              "    <tr>\n",
              "      <th>3</th>\n",
              "      <td>INTJ</td>\n",
              "      <td>'Dear INTP,   I enjoyed our conversation the o...</td>\n",
              "    </tr>\n",
              "    <tr>\n",
              "      <th>4</th>\n",
              "      <td>ENTJ</td>\n",
              "      <td>'You're fired.|||That's another silly misconce...</td>\n",
              "    </tr>\n",
              "  </tbody>\n",
              "</table>\n",
              "</div>\n",
              "    <div class=\"colab-df-buttons\">\n",
              "\n",
              "  <div class=\"colab-df-container\">\n",
              "    <button class=\"colab-df-convert\" onclick=\"convertToInteractive('df-ebc59e45-d440-4379-b70e-eb04624494c0')\"\n",
              "            title=\"Convert this dataframe to an interactive table.\"\n",
              "            style=\"display:none;\">\n",
              "\n",
              "  <svg xmlns=\"http://www.w3.org/2000/svg\" height=\"24px\" viewBox=\"0 -960 960 960\">\n",
              "    <path d=\"M120-120v-720h720v720H120Zm60-500h600v-160H180v160Zm220 220h160v-160H400v160Zm0 220h160v-160H400v160ZM180-400h160v-160H180v160Zm440 0h160v-160H620v160ZM180-180h160v-160H180v160Zm440 0h160v-160H620v160Z\"/>\n",
              "  </svg>\n",
              "    </button>\n",
              "\n",
              "  <style>\n",
              "    .colab-df-container {\n",
              "      display:flex;\n",
              "      gap: 12px;\n",
              "    }\n",
              "\n",
              "    .colab-df-convert {\n",
              "      background-color: #E8F0FE;\n",
              "      border: none;\n",
              "      border-radius: 50%;\n",
              "      cursor: pointer;\n",
              "      display: none;\n",
              "      fill: #1967D2;\n",
              "      height: 32px;\n",
              "      padding: 0 0 0 0;\n",
              "      width: 32px;\n",
              "    }\n",
              "\n",
              "    .colab-df-convert:hover {\n",
              "      background-color: #E2EBFA;\n",
              "      box-shadow: 0px 1px 2px rgba(60, 64, 67, 0.3), 0px 1px 3px 1px rgba(60, 64, 67, 0.15);\n",
              "      fill: #174EA6;\n",
              "    }\n",
              "\n",
              "    .colab-df-buttons div {\n",
              "      margin-bottom: 4px;\n",
              "    }\n",
              "\n",
              "    [theme=dark] .colab-df-convert {\n",
              "      background-color: #3B4455;\n",
              "      fill: #D2E3FC;\n",
              "    }\n",
              "\n",
              "    [theme=dark] .colab-df-convert:hover {\n",
              "      background-color: #434B5C;\n",
              "      box-shadow: 0px 1px 3px 1px rgba(0, 0, 0, 0.15);\n",
              "      filter: drop-shadow(0px 1px 2px rgba(0, 0, 0, 0.3));\n",
              "      fill: #FFFFFF;\n",
              "    }\n",
              "  </style>\n",
              "\n",
              "    <script>\n",
              "      const buttonEl =\n",
              "        document.querySelector('#df-ebc59e45-d440-4379-b70e-eb04624494c0 button.colab-df-convert');\n",
              "      buttonEl.style.display =\n",
              "        google.colab.kernel.accessAllowed ? 'block' : 'none';\n",
              "\n",
              "      async function convertToInteractive(key) {\n",
              "        const element = document.querySelector('#df-ebc59e45-d440-4379-b70e-eb04624494c0');\n",
              "        const dataTable =\n",
              "          await google.colab.kernel.invokeFunction('convertToInteractive',\n",
              "                                                    [key], {});\n",
              "        if (!dataTable) return;\n",
              "\n",
              "        const docLinkHtml = 'Like what you see? Visit the ' +\n",
              "          '<a target=\"_blank\" href=https://colab.research.google.com/notebooks/data_table.ipynb>data table notebook</a>'\n",
              "          + ' to learn more about interactive tables.';\n",
              "        element.innerHTML = '';\n",
              "        dataTable['output_type'] = 'display_data';\n",
              "        await google.colab.output.renderOutput(dataTable, element);\n",
              "        const docLink = document.createElement('div');\n",
              "        docLink.innerHTML = docLinkHtml;\n",
              "        element.appendChild(docLink);\n",
              "      }\n",
              "    </script>\n",
              "  </div>\n",
              "\n",
              "\n",
              "<div id=\"df-79cdfee3-e1b4-42bb-ba71-75c0a027602d\">\n",
              "  <button class=\"colab-df-quickchart\" onclick=\"quickchart('df-79cdfee3-e1b4-42bb-ba71-75c0a027602d')\"\n",
              "            title=\"Suggest charts\"\n",
              "            style=\"display:none;\">\n",
              "\n",
              "<svg xmlns=\"http://www.w3.org/2000/svg\" height=\"24px\"viewBox=\"0 0 24 24\"\n",
              "     width=\"24px\">\n",
              "    <g>\n",
              "        <path d=\"M19 3H5c-1.1 0-2 .9-2 2v14c0 1.1.9 2 2 2h14c1.1 0 2-.9 2-2V5c0-1.1-.9-2-2-2zM9 17H7v-7h2v7zm4 0h-2V7h2v10zm4 0h-2v-4h2v4z\"/>\n",
              "    </g>\n",
              "</svg>\n",
              "  </button>\n",
              "\n",
              "<style>\n",
              "  .colab-df-quickchart {\n",
              "      --bg-color: #E8F0FE;\n",
              "      --fill-color: #1967D2;\n",
              "      --hover-bg-color: #E2EBFA;\n",
              "      --hover-fill-color: #174EA6;\n",
              "      --disabled-fill-color: #AAA;\n",
              "      --disabled-bg-color: #DDD;\n",
              "  }\n",
              "\n",
              "  [theme=dark] .colab-df-quickchart {\n",
              "      --bg-color: #3B4455;\n",
              "      --fill-color: #D2E3FC;\n",
              "      --hover-bg-color: #434B5C;\n",
              "      --hover-fill-color: #FFFFFF;\n",
              "      --disabled-bg-color: #3B4455;\n",
              "      --disabled-fill-color: #666;\n",
              "  }\n",
              "\n",
              "  .colab-df-quickchart {\n",
              "    background-color: var(--bg-color);\n",
              "    border: none;\n",
              "    border-radius: 50%;\n",
              "    cursor: pointer;\n",
              "    display: none;\n",
              "    fill: var(--fill-color);\n",
              "    height: 32px;\n",
              "    padding: 0;\n",
              "    width: 32px;\n",
              "  }\n",
              "\n",
              "  .colab-df-quickchart:hover {\n",
              "    background-color: var(--hover-bg-color);\n",
              "    box-shadow: 0 1px 2px rgba(60, 64, 67, 0.3), 0 1px 3px 1px rgba(60, 64, 67, 0.15);\n",
              "    fill: var(--button-hover-fill-color);\n",
              "  }\n",
              "\n",
              "  .colab-df-quickchart-complete:disabled,\n",
              "  .colab-df-quickchart-complete:disabled:hover {\n",
              "    background-color: var(--disabled-bg-color);\n",
              "    fill: var(--disabled-fill-color);\n",
              "    box-shadow: none;\n",
              "  }\n",
              "\n",
              "  .colab-df-spinner {\n",
              "    border: 2px solid var(--fill-color);\n",
              "    border-color: transparent;\n",
              "    border-bottom-color: var(--fill-color);\n",
              "    animation:\n",
              "      spin 1s steps(1) infinite;\n",
              "  }\n",
              "\n",
              "  @keyframes spin {\n",
              "    0% {\n",
              "      border-color: transparent;\n",
              "      border-bottom-color: var(--fill-color);\n",
              "      border-left-color: var(--fill-color);\n",
              "    }\n",
              "    20% {\n",
              "      border-color: transparent;\n",
              "      border-left-color: var(--fill-color);\n",
              "      border-top-color: var(--fill-color);\n",
              "    }\n",
              "    30% {\n",
              "      border-color: transparent;\n",
              "      border-left-color: var(--fill-color);\n",
              "      border-top-color: var(--fill-color);\n",
              "      border-right-color: var(--fill-color);\n",
              "    }\n",
              "    40% {\n",
              "      border-color: transparent;\n",
              "      border-right-color: var(--fill-color);\n",
              "      border-top-color: var(--fill-color);\n",
              "    }\n",
              "    60% {\n",
              "      border-color: transparent;\n",
              "      border-right-color: var(--fill-color);\n",
              "    }\n",
              "    80% {\n",
              "      border-color: transparent;\n",
              "      border-right-color: var(--fill-color);\n",
              "      border-bottom-color: var(--fill-color);\n",
              "    }\n",
              "    90% {\n",
              "      border-color: transparent;\n",
              "      border-bottom-color: var(--fill-color);\n",
              "    }\n",
              "  }\n",
              "</style>\n",
              "\n",
              "  <script>\n",
              "    async function quickchart(key) {\n",
              "      const quickchartButtonEl =\n",
              "        document.querySelector('#' + key + ' button');\n",
              "      quickchartButtonEl.disabled = true;  // To prevent multiple clicks.\n",
              "      quickchartButtonEl.classList.add('colab-df-spinner');\n",
              "      try {\n",
              "        const charts = await google.colab.kernel.invokeFunction(\n",
              "            'suggestCharts', [key], {});\n",
              "      } catch (error) {\n",
              "        console.error('Error during call to suggestCharts:', error);\n",
              "      }\n",
              "      quickchartButtonEl.classList.remove('colab-df-spinner');\n",
              "      quickchartButtonEl.classList.add('colab-df-quickchart-complete');\n",
              "    }\n",
              "    (() => {\n",
              "      let quickchartButtonEl =\n",
              "        document.querySelector('#df-79cdfee3-e1b4-42bb-ba71-75c0a027602d button');\n",
              "      quickchartButtonEl.style.display =\n",
              "        google.colab.kernel.accessAllowed ? 'block' : 'none';\n",
              "    })();\n",
              "  </script>\n",
              "</div>\n",
              "\n",
              "    </div>\n",
              "  </div>\n"
            ],
            "application/vnd.google.colaboratory.intrinsic+json": {
              "type": "dataframe",
              "variable_name": "mbti",
              "summary": "{\n  \"name\": \"mbti\",\n  \"rows\": 6506,\n  \"fields\": [\n    {\n      \"column\": \"type\",\n      \"properties\": {\n        \"dtype\": \"category\",\n        \"num_unique_values\": 16,\n        \"samples\": [\n          \"INFJ\",\n          \"ENTP\",\n          \"ENFJ\"\n        ],\n        \"semantic_type\": \"\",\n        \"description\": \"\"\n      }\n    },\n    {\n      \"column\": \"posts\",\n      \"properties\": {\n        \"dtype\": \"string\",\n        \"num_unique_values\": 6506,\n        \"samples\": [\n          \"'I was was with my ISTJ ex-husband for 14 years.  We rarely argued. He was and still is very reliable, trustworthy, dependable and caring.   We drifted apart because there was a lack of fun,...|||0%    -   It says I should be vigilant about people with psychopathic traits who might take advantage.  I guess when I was younger, I did assume the best and it was easy for certain individuals to...|||I think that amongst XXFJs, particularly INFJs and ISFJs, there's an increased tendency to want to help and make others happy etc.  I certainly feel that pull.  We've just got to be careful that...|||I'm scatty and often don't notice my surroundings because I'm in my own world.  I put something down, like an umbrella, then walk off without it.  I might be engrossed in something at work, eg a...|||I have two daughters: one is  ESFJ and one is ENFJ.  Their father (my ex-husband) is ISTJ.  So it's definitely possible for two introverts to produce extraverts!|||I think if you are the one doing most of the 'giving' in the relationship, and spending lots of time trying to make your SO happy (whilst not demanding the same in return) you are more likely to be...|||Ok, but maybe it's just the way they answered the question in the survey.  Like rather than say how they really feel, they might say how they think they ought to feel based on logic.  E.g. I must...|||Ah, c'mon now! Stop exaggerating (even if it's for comic effect)!  My best friend is a married female ENTP so I will consult with her and may get back to you to disprove your claim!|||Well I guess most people are cordial and polite to acquaintances because cordial and polite = distant.  But sarcastic, teasing and tactlessly blunt?  That doesn't necessarily sound like 'being a...|||What???  You mean if I start a relationship with an ENTP, he's going to have a few friends waiting in the wings, ready to take my place? Not sure I like the sound of that. Better watch out for...|||Unemployment is stressful for anyone, but for a man (of any type) whose partner has a baby on the way and feels he ought to be the 'provider' for his partner and baby (as most men do) then multiply...|||purposive I know where you are coming from.    I'm  a very animated INFJ (clearly not all of us are) and I have an INTJ work colleague.  When I'm talking to her it's like we're so similar yet so...|||Yes, I can see what you're saying here.  With INTPs, I feel interested, engaged and amused.    With ENTPs, I feel the above plus energised, light, alive and completely myself.  To generalise,...|||Mystery is ISTP.  It's like somebody puts on the Internet that he's INFJ and it suddenly becomes 'fact'  But if you look at his body language and eyes, they are nothing like an INFJ's.  He is...|||So, go on, what's the connection between INFJs and Ewoks, then?  I'm sure you'd love to tell us :)|||Ok so here's another theory to throw into the mix:  Perhaps you are a more confident and secure person nowadays, so that you don't need to rely on external validation in order to feel good about...|||My mum is an INFP and my Dad is an ENTJ.  They have been together for 43 years.  They are really happy together and very close.  They are rarely apart from each other, especially now that they are...|||Your advice is interesting. I like it.  I was wondering if Ti users like ENTPs find it more difficult to work out what they want and therefore end up sometimes feeling bored, listless, disconnected...|||Probably they were INFJ cabbies!|||You seem to be saying that an INFJ might accuse someone of a weakness as an excuse to withdraw from a relationship, when the real reason they are withdrawing is because the relationship makes them...|||Rationally, I am tolerant of other's weaknesses, but irrationally I can still get irritated. But if I'm feeling irritated, I tell myself 'well, they just can't help being like that.     I work...|||I'm starting to realise that I'm a little less structured and 'J' than the average INFJ here.  Was brought up by INFP mum so that might explain it!|||Well, finally there's something we can all agree an INFJ would not say (I hope)|||I'm just one of those people who doesn't dream - or at least if I do, I can't remember them when I wake up|||Why? Don't tell me you like doing taxes!  Probably I'm the atypical INFJ.  I guess it just shows we're all different.|||(To the boss) Just tell me what you want me to do and precisely how I should go about it.  You don't need to worry my little head with the reasons behind or the purpose of the job.|||I had an interesting and fun morning going through my household budget, studying the monthly income and outgoings in great detail.|||I know that I am an INFJ because I know that my cognitive functions are Ni-Fe-Ti-Se in that order.  But where have we got the idea that INFJs perceive themselves as victims, enter into abusive...|||What about things like health spas, massages from masseurs, pedicures etc?  A lot of women talk about how they love to be 'pampered' but I'm really not into it.  It's like: 'You're invading my...|||I can relate to the situation the OP describes and I have clashed with an ESTJ at work a number of times.  They're just so different to INFJs and my habit of asking 'why' is perceived as a criticism....|||You say, I feel like I need to be impressive to be accepted. I think you summed up your whole post with this sentence.  I have no idea what MB type you are, but the main thing you have to deal...|||Like DiamondDays said, he sounds more NTJ to me.  Some NJs can test as NPs (myself included) because we're more organised and decisive in a long term, driven kind of way and less interested in making...|||What about following a pet theme like 'the dog ate it, the cat spat on it, the hamster used it as a blanket, the rabbit thought it was a carrot, a hedgehog hibernated in it...' something like that. ...|||My INFP friend's 16 year old ENTP daughter says that she hasn't done her homework/ course work because she's a 'kinaesthetic learner'!??  Well that's what she tells her mum. I've no idea what she...|||I keep asking these questions to all four of my ENTP friends.  One of them has let it be known that my persistent questioning about what jobs she would like to do when her kids are older (she's a...|||This is great! Explains it so well.   Also, the part about integrating Se in later life definitely applies to me. (I'm 41)|||For me, Fe seems like sharing emotions with others rather than delving too deeply in my own emotions.  So when I see other people feel sad, it makes me feel sad.  My everyday behaviour and my choice...|||I express superficial emotions like excitement, irritation, frustration, happiness easily and frequently and I sometimes even exaggerate them for dramatic effect!  But when it comes down to the...|||^ A prime example of the dangers of Ni overuse!!  Ok, I know you wrote it as a joke.  But really, you've clearly spent a long time fantasising about this.  Is that a good use of your time?  Or...|||*thinks* hmm....  Maybe it's not that people love to hate ENTPs but that ENTPs love to be hated!  You know - like how little kids play up and be naughty because being told off is still getting...|||Ooh DiamondDays, I really HATE you!    (Did you love that?)|||NTPs aren't annoying.  They're lovely :)  There's a lot more scope on the 'hate'  thread for debate. On the 'love' thread people say something complimentary about ENTPs, then ENTPs say 'Yeah I...|||The tests make me either a five or a two, but I relate more to the type 5 description.|||Actually, I'm not sure either which teaching areas are specifically Se.  I have two ESTP colleagues.  One is in charge of Art and the other is in charge of sport/ P.E.  So I guess probably it's that...|||If you've just started then this is the hardest time because you haven't got the experience to just 'wing it' from time to time.  Lots of things will just come automatic with experience so it will...|||I'm actually in the management side of things now, specialising in kids with learning or behavioural difficulties.  I get a nice balance between strategy, planning, analysis (Ni stuff) and direct...|||A 3 hour journey is a long way.  Ok, I understand now why you haven't yet met up.   Nevertheless, I hope that you manage to meet up with him in the not so distant future.  Personally, I don't trust...|||Sounds like you really ought to meet up with him, if only to bring you down to earth if it turns out that in real life he is not as great as you imagined him to be.  But you are a bit worried that if...|||Yes, but the potential for rejection, humiliation, embarrassment and awkwardness is huge if you're just going to be direct and ask out someone who has been a good friend for a long while.  Surely,...|||Sorry, I misunderstood.  I thought you meant her timing during the concert was bad.  I didn't realise you meant bad timing as in that point in your life.  So she has a boyfriend now? Well, I guess...'\",\n          \"'YES YES! XD I think I'd chose this power over any other. I would love to travel from the past to the future, slow time down and play around by switching things a bit in certain situations. Sometimes...|||Talking to animals and slowing down time! HELL YES! Those are awesome.. I want those powers too!  Slowing down time is perfect for ENFPs :D|||My guess is that if they were tidy, clean and organized they would have a much stronger J. I am neither of those things XD.|||Lol I personally don't see much of a trend with zodiac signs and mbti types. I am an Aquarius pisces cusp.. leaning much more towards aquarius (feb 16), cap moon, scorpio ascending and I am an ENFP....|||Wow! I can't read minds, but I'm good at sensing how others are feeling. Close enough? :p|||hahaha Im guessing I am an ENFP that cannot read minds :(  Invisibility is awesome, but I would want to be able to go through walls and stuff too by choice.. not like a ghost lol|||Agreed! She is wonderful, and yes I've been following her for quite a while now, she is definitely an ENFP :p|||Thought some of you younger ENFPs might like this video - Inner Beauty make-up tutorial. Its just simply brilliant and its not only for women.  Don't let the make-up tutorial in the title fool...|||I waited for my letter till I was about 13 - 14! I still had hopes up that there was a high school version of Hogwarts.   Yes, I would love to be invisible too! No restrictions and I can do...|||LOL I do try to move things with my hands too! And I keep failing xD And I would pick teleportation too, I would do anything to be by the beach at the moment. I've always wanted to fly too.. but I...|||Wow, thats a really good question!   Maybe you should post this on the baby boomer forum, I'm sure some of them might have had parents/ grandparents who they would have considered to be ENFPs who...|||Interesting question!   This is super easy for me. I would loose my ethnicity.   Personally I am not at all religious but I am becoming more and more spiritual. I am a third culture kid and I...|||Are you as delusional as me and grew up thinking that you were born to be some sort of superhero?  If you could have any one (or more) superpower[s], what would it be and why? :wink:|||Yes this too, contributes to my personally switches in my case :p|||I'm not just A or B, sometimes theres a C and D too XD  Most of the time it depends who I'm with or the day I'm having, or even how much sleep I've gotten.   I wouldn't call it split personality...|||Story of my life. Taking 5 hours to do a 10 minute task because I get so distracted. If its not physical then its mental.|||Haaha it does rhyme! XD And yes! who am I fooling - that's me when I think about reality. I detest the mundane things in life.. I don't know how long I can survive following society's rigid...|||Very true! ;D|||This sounds exactly like me! And I worry about the same thing too!  I just thought about this. Often times, when I give people a motivational speech, it is indirectly inspiring me in a way. So I...|||Story of my life! And thats why I'm sooo sleep deprived :(|||Aww :( sometimes I go through this too, but more recently I've been able to control my idealistic ideas around the SJs, TJs just to avoid looking stupid/ naive. Maybe because I often felt hurt as a...|||Typical ENFPs for going off topic :p    There are plenty of girls out there who are not into the cocky macho man, and yes, she will be pretty awesome ;)     Yes, go ENFPs! A lot of...|||This post is quite interesting, I'm only 20 so I don't have my lifelong experience to give input. Would love to hear about what these older ENFPs have observed though.|||Thats funny, I was quite different as a child. As a child I was not as curious, I was a lot more observant from afar, although I still remained very intuitive. In class for the most part I paid...|||Respect. Exactly why I love ENFP guys! :) I mean how much more true to yourself can you be! The whole issue with masculinity and femininity is so outdated, it should be updated to being human, with...|||HAHAHA I love how you refer to a realistic person as an obedient slave XD. I completely agree with it. NFPs  = HOPE.  Without the balance of kindness, values, morals, and our out of the box views,...|||Yes! People do underestimate us. I feel that although we are genuine for the most bit, but there are two sides of us. On the surface we are trusting, random, have crazy ideas, oblivious (I've been...|||Being an ENFP is like hope for the world. If it weren't for us, and other NFs, there would probably not be much balance in the world.    Some things I dislike about being an ENFP include:   -...|||I think that fear is by all means one of life's greatest obstacles. Nothing is stronger than the mind. For us ENFPs, its our 'amazing' ability to over think and over analyse everything that creates...|||Completely agree with this! As soon as I shut up and listen to someone's issues, I feel like inspiration just pours out of my mouth, and it comes out so naturally, almost like it is instinctive and...|||HAHAH so spot on, I've been doing that throughout this whole thread XD|||Not sure if its only me, but whenever I read the news (which I do often), if the story about a negative situation (e.g. more poaching for ivory), I always connect with the story too emotionally and...'\",\n          \"'Edit: INFP-  Not everything I say is about you! I'm not criticizing you, I'm criticizing the thing you happen to like!|||Female INTP  (Rounded)  Masculine: 46 Feminine: 38 Androgynous: 53|||Ahaha! Those are hypnagogic hallucinations. I hear a lot of them before I fall asleep.  Here are some of what my voices have said:  I was not disappointed in the sound of the instructions. ...|||I love clubbing, only after about 5 drinks.|||As a Ti-dom I have a strong urge to correct what I perceive as logically inconsistent. I can quickly identify what's true/false almost instinctively. Often, when I come across new information...|||I chose success, because I think I've attained enough of the others (other than selflessness), so now the last step is to beat my crippling apathy and put my skills to good use.|||They keep trying to tell me how I actually feel or what I actually think.  I live in a family of all ENFJs (save for one INFJ) and they all think they know me better than I know myself. It's...|||It helps only in the short-term. If I repress my feelings long enough, it ends in an outburst, and in some cases, I end up alienating others.   I'm unsure how to accept them because I reflexively...|||I have depression and generalized anxiety disorder. I mistyped as a Feeler for a while because of this|||I wish people would just silently positively acknowledge and admire me instead of gushing about it|||Men and women are different|||Full-blown conversation with yourself? I need to try that sometime for shits and giggles' sake...|||Hello, fellow unicorn!! Female INTP here. :tongue: Hope you enjoy it here!|||I don't mind fake nice, in fact, I prefer it. It shows you have at least some common decency, unless you're deliberately doing it to be manipulative. But if you're passively doing it, fine. It...|||Would J correlate with Type A, and P correlate with Type B? Have any studies been done about this?  I'm type A, but other INTPs I know strike me as Type Bs. Really, most perceivers I know are...|||I only talk to myself in my head.|||I would confront her, and if it doesn't stop, it's out of your hands (crappy pun intended), so just let her keep being a middle school bully, and point and laugh.|||I can relate. I don't have many things in common with people. Sometimes when I try to give my opinion or make a joke, I speak in abstractions and end up confusing those listening. I think it's hard...|||I want them to go away. They're so pointless. I bottle them up so much and rarely cry, but once in a while, if I'm in a fight with someone for example, it's impossible for me to explain myself or...|||The debate within my own head goes something like:  Wrong! Wrong! I must tell them they're wrong! It's no use But I really need to tell them they're wrong because they're wrong and it's my...|||I've seen a thread here some time ago about favorite words, so now I'd like to know, what are your least favorite words?  The following make me want to dive off a cliff in despair: ...|||I brood and mourn, until I experience an existential crisis so brutal and life-changing, that it loops around and I realize that being alone opens up countless opportunities and possibilities for the...|||What if everyone just..... just..... came together and.... loved each other *.* ~<3|||I like parties sometimes, but I actually default to reading to the point I can't even say I prefer it to them. It would be like saying I prefer breathing to parties.|||It was 3am once and I was watching something on Youtube, and someone left a comment that read kaka poo poo stinky pants and this somehow had me in tears in a sleep-deprived laughing fit. I showed...|||Other INTPs I know have this thing where they're very stoic and logical, until either something stupid makes them laugh like a child, or something sciency or food-related gets them super excited, and...|||I would try to embrace it since it's a part of you that you repress, being INTP (which never turns out well)- however, if you think it's clouding your judgment and driving you insane, when I'm in...|||Rain Green apple-scented candles Jasmine Coconut oil Book pages A newly-opened video game package Warm, clean laundry Fresh, homemade bread Brisket Lemon|||I had an INFP friend who would always bring up her physically and sexually abusive ex, expecting me and our mutual friends to pity her, but sometimes she would make random remarks about how...|||I'm trying to talk slower too, for the same reasons you are. It's probably an Ne thing, which, in its auxiliary position, would be as prominent as Ti in many situations. It varies, really, because...|||It's changed my life dramatically. There are parts of me I thought were flaws, when they aren't particularly: for example, not being one for noticing small details. I wondered why I couldn't just pay...|||I had pretty much the same problems with 2 (toxic) INFPs I knew and came to realize these are some of the exact things that will easily push their buttons with minimal effort.  - Tell them their...|||Slow down! I can't keep up with this conversation anymore! Also, you told me that story about 50 times already|||My dad is an INFJ and my mom is an ENFJ  We can have great conversations, but they're always pressuring me to express my emotions when I'd rather not.|||What's it like being Se-dominant?  How do you experience inferior Ni? How does it get in the way of Se?|||When I'm drunk, not only do I become more outgoing, but I find myself really loving anyone who crosses my path and I'm more conscious of the emotional atmosphere, basking in this mentality of...|||The ENTPs (ENFPs too) I've met don't put enough faith in past experience. I always find myself telling them, remember what happened the last time you did this? when they're about to repeat...|||This is a tough one and there was a point when I wondered if I were ENTP, and I asked myself if, generally, do I use ideas to feed my thinking (INTP), or do I use thinking to feed my ideas (ENTP)? I...|||When I first heard the phrase, if you believe yourself, you can do anything I took it literally and would constantly asked my parents, how do I believe in myself? and if I do, does that mean I'll...|||1. No, because despite my opinion of a person, chances are there are other people who value that person who would be devastated at their loss, and even if that weren't the case, everyone has the...|||Tea :). I'm not much of a coffee fan. Can't stand the taste.|||I hate feeling emotions and when I do, I desperately try to ignore them or at least detach from them. To let myself feel means to disturb my inner stability and ability to think clearly. If I have to...|||You have to read something over and over because you don't trust what you read first to be what you really saw|||People who will believe any illogical tripe just because it makes them feel good or because it will get them brownie points|||Obviously I'm not longing for my brain to be stored in an isolation tank, and I quite like being human, but sometimes when it comes time to manage my physical self (eating when I have to, not...|||OH GOD  That hippo is now the oracle|||I'm good at giving someone logical comfort as was stated already, but when it comes to warmth and emotional support, it's about as hard for me as doing a backflip forward.|||Definitely not lol. My Si is pitiful.|||When I'm grateful for something someone has done for me, in addition to saying thank you, I make a point that I really appreciate that they did it for me. I force myself to express it when I...|||22. I thought I did worse. Fun test though.'\"\n        ],\n        \"semantic_type\": \"\",\n        \"description\": \"\"\n      }\n    }\n  ]\n}"
            }
          },
          "metadata": {},
          "execution_count": 5
        }
      ],
      "source": [
        "# Read the MBTI dataset\n",
        "mbti = pd.read_csv('https://raw.githubusercontent.com/Explore-AI/Public-Data/master/Data/classification_sprint/mbti_train.csv')\n",
        "mbti.head()"
      ]
    },
    {
      "cell_type": "code",
      "source": [
        "mbti.info()"
      ],
      "metadata": {
        "colab": {
          "base_uri": "https://localhost:8080/"
        },
        "id": "OBrfSNHioUhw",
        "outputId": "b7aea8ef-979d-422b-e970-eb7e8c917958"
      },
      "execution_count": 6,
      "outputs": [
        {
          "output_type": "stream",
          "name": "stdout",
          "text": [
            "<class 'pandas.core.frame.DataFrame'>\n",
            "RangeIndex: 6506 entries, 0 to 6505\n",
            "Data columns (total 2 columns):\n",
            " #   Column  Non-Null Count  Dtype \n",
            "---  ------  --------------  ----- \n",
            " 0   type    6506 non-null   object\n",
            " 1   posts   6506 non-null   object\n",
            "dtypes: object(2)\n",
            "memory usage: 101.8+ KB\n"
          ]
        }
      ]
    },
    {
      "cell_type": "markdown",
      "metadata": {
        "id": "J-5zDONGhxxA"
      },
      "source": [
        "Let's start by printing a list of all the MBTI personality types that are present in this dataset."
      ]
    },
    {
      "cell_type": "code",
      "execution_count": 8,
      "metadata": {
        "colab": {
          "base_uri": "https://localhost:8080/"
        },
        "id": "qwDXuRxQhxxA",
        "outputId": "afa5e722-6868-43e7-c2e0-7e359c508339"
      },
      "outputs": [
        {
          "output_type": "stream",
          "name": "stdout",
          "text": [
            "['INFJ', 'ENTP', 'INTP', 'INTJ', 'ENTJ', 'ENFJ', 'INFP', 'ENFP', 'ISFP', 'ISTP', 'ISFJ', 'ISTJ', 'ESTP', 'ESFP', 'ESTJ', 'ESFJ']\n",
            "16\n"
          ]
        }
      ],
      "source": [
        "# Print list of unique MBTI personality types\n",
        "type_labels = list(mbti.type.unique())\n",
        "print(type_labels)\n",
        "print(len(type_labels))"
      ]
    },
    {
      "cell_type": "markdown",
      "metadata": {
        "id": "dDSv8UyDU__G"
      },
      "source": [
        "Let's have a look at how many data samples we have for each of the different MBTI personality types."
      ]
    },
    {
      "cell_type": "code",
      "execution_count": 9,
      "metadata": {
        "colab": {
          "base_uri": "https://localhost:8080/",
          "height": 482
        },
        "id": "h3G_aB4hU__G",
        "outputId": "9de6cef2-8362-4495-fa0e-2117d45629a6"
      },
      "outputs": [
        {
          "output_type": "display_data",
          "data": {
            "text/plain": [
              "<Figure size 640x480 with 1 Axes>"
            ],
            "image/png": "[encoded data removed]"
          },
          "metadata": {}
        }
      ],
      "source": [
        "# Visualise the distribution of MBTI personality types\n",
        "mbti['type'].value_counts().plot(kind = 'bar')\n",
        "plt.show()"
      ]
    },
    {
      "cell_type": "markdown",
      "metadata": {
        "id": "z7h-hcmsU__J"
      },
      "source": [
        "It looks like we have very few samples for the 'ES' types. Maybe because they are out in the real world, not sitting behind a computer screen! :)   \n",
        "   \n",
        "Let's increase the size of the dataset by separating each of the 50 posts in the `posts` column of each row into its own row."
      ]
    },
    {
      "cell_type": "code",
      "execution_count": 10,
      "metadata": {
        "id": "88DRAzHnU__J",
        "jupyter": {
          "outputs_hidden": true
        }
      },
      "outputs": [],
      "source": [
        "# Separate each post in the 'posts' column into its own row\n",
        "all_mbti = []\n",
        "for i, row in mbti.iterrows():\n",
        "    for post in row['posts'].split('|||'):\n",
        "        all_mbti.append([row['type'], post])\n",
        "all_mbti = pd.DataFrame(all_mbti, columns=['type', 'post'])"
      ]
    },
    {
      "cell_type": "code",
      "execution_count": 11,
      "metadata": {
        "colab": {
          "base_uri": "https://localhost:8080/"
        },
        "id": "hF5aiupbU__M",
        "outputId": "ce7a447e-1969-4f31-c51d-09f474aaae47"
      },
      "outputs": [
        {
          "output_type": "execute_result",
          "data": {
            "text/plain": [
              "(316548, 2)"
            ]
          },
          "metadata": {},
          "execution_count": 11
        }
      ],
      "source": [
        "# How many rows do we have now?\n",
        "all_mbti.shape"
      ]
    },
    {
      "cell_type": "code",
      "execution_count": 12,
      "metadata": {
        "colab": {
          "base_uri": "https://localhost:8080/",
          "height": 482
        },
        "id": "bElSlHKGU__W",
        "outputId": "d17555f5-194d-4a55-a3d6-233e54540358"
      },
      "outputs": [
        {
          "output_type": "display_data",
          "data": {
            "text/plain": [
              "<Figure size 640x480 with 1 Axes>"
            ],
            "image/png": "[encoded data removed]"
          },
          "metadata": {}
        }
      ],
      "source": [
        "all_mbti['type'].value_counts().plot(kind = 'bar')\n",
        "plt.show()"
      ]
    },
    {
      "cell_type": "markdown",
      "metadata": {
        "id": "GnKe3gyoU__Z"
      },
      "source": [
        "Although the proportions of the classes remain consistent, we have significantly increased the number of samples for the 'ES' personality types by separating each post into its own row."
      ]
    },
    {
      "cell_type": "markdown",
      "metadata": {
        "id": "VCXae5QXU__Z"
      },
      "source": [
        "## Text cleaning\n",
        "\n",
        "### Removing noise"
      ]
    },
    {
      "cell_type": "markdown",
      "metadata": {
        "id": "UwJMs441U__a"
      },
      "source": [
        "In text analytics, removing noise (i.e. unnecessary information) is a key part of getting the data into a usable format.  Some techniques are standard, but your own unique dataset will require some creative thinking on your part.\n",
        "\n",
        "For the MBTI dataset, we will be doing the following:\n",
        "* Remove the web-urls.\n",
        "* Make all the text lowercase.\n",
        "* Remove punctuation.\n",
        "\n",
        "**[Regular expressions](https://www.regular-expressions.info/)** can be very useful for extracting information from text.  If you feel brave, go teach yourself all about it. If not, just follow along.  This next step effectively removes all websites and replaces them with the text `'web-url'`."
      ]
    },
    {
      "cell_type": "code",
      "execution_count": 21,
      "metadata": {
        "id": "lwQ40KKDU__a",
        "jupyter": {
          "outputs_hidden": true
        }
      },
      "outputs": [],
      "source": [
        "\n",
        "# Replace URLs in the 'post' column with a placeholder string\n",
        "pattern_url = r'http[s]?://(?:[A-Za-z]|[0-9]|[$-_@.&+]|[!*\\(\\),]|(?:%[0-9A-Fa-f][0-9A-Fa-f]))+'\n",
        "subs_url = r'url-web'\n",
        "all_mbti['post'] = all_mbti['post'].replace(to_replace = pattern_url, value = subs_url, regex = True)"
      ]
    },
    {
      "cell_type": "code",
      "execution_count": 22,
      "metadata": {
        "colab": {
          "base_uri": "https://localhost:8080/",
          "height": 206
        },
        "id": "PLOKzwsdU__d",
        "outputId": "71b0c30a-481a-4783-94c1-9d8fb82ec661"
      },
      "outputs": [
        {
          "output_type": "execute_result",
          "data": {
            "text/plain": [
              "   type                                               post\n",
              "0  INFJ                                             urlweb\n",
              "1  INFJ                                             urlweb\n",
              "2  INFJ  enfp and intj moments  urlweb  sportscenter no...\n",
              "3  INFJ  what has been the most lifechanging experience...\n",
              "4  INFJ       urlweb   urlweb  on repeat for most of today"
            ],
            "text/html": [
              "\n",
              "  <div id=\"df-e5a5fb3c-a124-4ab1-ab27-0b48df20e6a9\" class=\"colab-df-container\">\n",
              "    <div>\n",
              "<style scoped>\n",
              "    .dataframe tbody tr th:only-of-type {\n",
              "        vertical-align: middle;\n",
              "    }\n",
              "\n",
              "    .dataframe tbody tr th {\n",
              "        vertical-align: top;\n",
              "    }\n",
              "\n",
              "    .dataframe thead th {\n",
              "        text-align: right;\n",
              "    }\n",
              "</style>\n",
              "<table border=\"1\" class=\"dataframe\">\n",
              "  <thead>\n",
              "    <tr style=\"text-align: right;\">\n",
              "      <th></th>\n",
              "      <th>type</th>\n",
              "      <th>post</th>\n",
              "    </tr>\n",
              "  </thead>\n",
              "  <tbody>\n",
              "    <tr>\n",
              "      <th>0</th>\n",
              "      <td>INFJ</td>\n",
              "      <td>urlweb</td>\n",
              "    </tr>\n",
              "    <tr>\n",
              "      <th>1</th>\n",
              "      <td>INFJ</td>\n",
              "      <td>urlweb</td>\n",
              "    </tr>\n",
              "    <tr>\n",
              "      <th>2</th>\n",
              "      <td>INFJ</td>\n",
              "      <td>enfp and intj moments  urlweb  sportscenter no...</td>\n",
              "    </tr>\n",
              "    <tr>\n",
              "      <th>3</th>\n",
              "      <td>INFJ</td>\n",
              "      <td>what has been the most lifechanging experience...</td>\n",
              "    </tr>\n",
              "    <tr>\n",
              "      <th>4</th>\n",
              "      <td>INFJ</td>\n",
              "      <td>urlweb   urlweb  on repeat for most of today</td>\n",
              "    </tr>\n",
              "  </tbody>\n",
              "</table>\n",
              "</div>\n",
              "    <div class=\"colab-df-buttons\">\n",
              "\n",
              "  <div class=\"colab-df-container\">\n",
              "    <button class=\"colab-df-convert\" onclick=\"convertToInteractive('df-e5a5fb3c-a124-4ab1-ab27-0b48df20e6a9')\"\n",
              "            title=\"Convert this dataframe to an interactive table.\"\n",
              "            style=\"display:none;\">\n",
              "\n",
              "  <svg xmlns=\"http://www.w3.org/2000/svg\" height=\"24px\" viewBox=\"0 -960 960 960\">\n",
              "    <path d=\"M120-120v-720h720v720H120Zm60-500h600v-160H180v160Zm220 220h160v-160H400v160Zm0 220h160v-160H400v160ZM180-400h160v-160H180v160Zm440 0h160v-160H620v160ZM180-180h160v-160H180v160Zm440 0h160v-160H620v160Z\"/>\n",
              "  </svg>\n",
              "    </button>\n",
              "\n",
              "  <style>\n",
              "    .colab-df-container {\n",
              "      display:flex;\n",
              "      gap: 12px;\n",
              "    }\n",
              "\n",
              "    .colab-df-convert {\n",
              "      background-color: #E8F0FE;\n",
              "      border: none;\n",
              "      border-radius: 50%;\n",
              "      cursor: pointer;\n",
              "      display: none;\n",
              "      fill: #1967D2;\n",
              "      height: 32px;\n",
              "      padding: 0 0 0 0;\n",
              "      width: 32px;\n",
              "    }\n",
              "\n",
              "    .colab-df-convert:hover {\n",
              "      background-color: #E2EBFA;\n",
              "      box-shadow: 0px 1px 2px rgba(60, 64, 67, 0.3), 0px 1px 3px 1px rgba(60, 64, 67, 0.15);\n",
              "      fill: #174EA6;\n",
              "    }\n",
              "\n",
              "    .colab-df-buttons div {\n",
              "      margin-bottom: 4px;\n",
              "    }\n",
              "\n",
              "    [theme=dark] .colab-df-convert {\n",
              "      background-color: #3B4455;\n",
              "      fill: #D2E3FC;\n",
              "    }\n",
              "\n",
              "    [theme=dark] .colab-df-convert:hover {\n",
              "      background-color: #434B5C;\n",
              "      box-shadow: 0px 1px 3px 1px rgba(0, 0, 0, 0.15);\n",
              "      filter: drop-shadow(0px 1px 2px rgba(0, 0, 0, 0.3));\n",
              "      fill: #FFFFFF;\n",
              "    }\n",
              "  </style>\n",
              "\n",
              "    <script>\n",
              "      const buttonEl =\n",
              "        document.querySelector('#df-e5a5fb3c-a124-4ab1-ab27-0b48df20e6a9 button.colab-df-convert');\n",
              "      buttonEl.style.display =\n",
              "        google.colab.kernel.accessAllowed ? 'block' : 'none';\n",
              "\n",
              "      async function convertToInteractive(key) {\n",
              "        const element = document.querySelector('#df-e5a5fb3c-a124-4ab1-ab27-0b48df20e6a9');\n",
              "        const dataTable =\n",
              "          await google.colab.kernel.invokeFunction('convertToInteractive',\n",
              "                                                    [key], {});\n",
              "        if (!dataTable) return;\n",
              "\n",
              "        const docLinkHtml = 'Like what you see? Visit the ' +\n",
              "          '<a target=\"_blank\" href=https://colab.research.google.com/notebooks/data_table.ipynb>data table notebook</a>'\n",
              "          + ' to learn more about interactive tables.';\n",
              "        element.innerHTML = '';\n",
              "        dataTable['output_type'] = 'display_data';\n",
              "        await google.colab.output.renderOutput(dataTable, element);\n",
              "        const docLink = document.createElement('div');\n",
              "        docLink.innerHTML = docLinkHtml;\n",
              "        element.appendChild(docLink);\n",
              "      }\n",
              "    </script>\n",
              "  </div>\n",
              "\n",
              "\n",
              "<div id=\"df-442f5965-1dab-4721-a0e0-015380976e4e\">\n",
              "  <button class=\"colab-df-quickchart\" onclick=\"quickchart('df-442f5965-1dab-4721-a0e0-015380976e4e')\"\n",
              "            title=\"Suggest charts\"\n",
              "            style=\"display:none;\">\n",
              "\n",
              "<svg xmlns=\"http://www.w3.org/2000/svg\" height=\"24px\"viewBox=\"0 0 24 24\"\n",
              "     width=\"24px\">\n",
              "    <g>\n",
              "        <path d=\"M19 3H5c-1.1 0-2 .9-2 2v14c0 1.1.9 2 2 2h14c1.1 0 2-.9 2-2V5c0-1.1-.9-2-2-2zM9 17H7v-7h2v7zm4 0h-2V7h2v10zm4 0h-2v-4h2v4z\"/>\n",
              "    </g>\n",
              "</svg>\n",
              "  </button>\n",
              "\n",
              "<style>\n",
              "  .colab-df-quickchart {\n",
              "      --bg-color: #E8F0FE;\n",
              "      --fill-color: #1967D2;\n",
              "      --hover-bg-color: #E2EBFA;\n",
              "      --hover-fill-color: #174EA6;\n",
              "      --disabled-fill-color: #AAA;\n",
              "      --disabled-bg-color: #DDD;\n",
              "  }\n",
              "\n",
              "  [theme=dark] .colab-df-quickchart {\n",
              "      --bg-color: #3B4455;\n",
              "      --fill-color: #D2E3FC;\n",
              "      --hover-bg-color: #434B5C;\n",
              "      --hover-fill-color: #FFFFFF;\n",
              "      --disabled-bg-color: #3B4455;\n",
              "      --disabled-fill-color: #666;\n",
              "  }\n",
              "\n",
              "  .colab-df-quickchart {\n",
              "    background-color: var(--bg-color);\n",
              "    border: none;\n",
              "    border-radius: 50%;\n",
              "    cursor: pointer;\n",
              "    display: none;\n",
              "    fill: var(--fill-color);\n",
              "    height: 32px;\n",
              "    padding: 0;\n",
              "    width: 32px;\n",
              "  }\n",
              "\n",
              "  .colab-df-quickchart:hover {\n",
              "    background-color: var(--hover-bg-color);\n",
              "    box-shadow: 0 1px 2px rgba(60, 64, 67, 0.3), 0 1px 3px 1px rgba(60, 64, 67, 0.15);\n",
              "    fill: var(--button-hover-fill-color);\n",
              "  }\n",
              "\n",
              "  .colab-df-quickchart-complete:disabled,\n",
              "  .colab-df-quickchart-complete:disabled:hover {\n",
              "    background-color: var(--disabled-bg-color);\n",
              "    fill: var(--disabled-fill-color);\n",
              "    box-shadow: none;\n",
              "  }\n",
              "\n",
              "  .colab-df-spinner {\n",
              "    border: 2px solid var(--fill-color);\n",
              "    border-color: transparent;\n",
              "    border-bottom-color: var(--fill-color);\n",
              "    animation:\n",
              "      spin 1s steps(1) infinite;\n",
              "  }\n",
              "\n",
              "  @keyframes spin {\n",
              "    0% {\n",
              "      border-color: transparent;\n",
              "      border-bottom-color: var(--fill-color);\n",
              "      border-left-color: var(--fill-color);\n",
              "    }\n",
              "    20% {\n",
              "      border-color: transparent;\n",
              "      border-left-color: var(--fill-color);\n",
              "      border-top-color: var(--fill-color);\n",
              "    }\n",
              "    30% {\n",
              "      border-color: transparent;\n",
              "      border-left-color: var(--fill-color);\n",
              "      border-top-color: var(--fill-color);\n",
              "      border-right-color: var(--fill-color);\n",
              "    }\n",
              "    40% {\n",
              "      border-color: transparent;\n",
              "      border-right-color: var(--fill-color);\n",
              "      border-top-color: var(--fill-color);\n",
              "    }\n",
              "    60% {\n",
              "      border-color: transparent;\n",
              "      border-right-color: var(--fill-color);\n",
              "    }\n",
              "    80% {\n",
              "      border-color: transparent;\n",
              "      border-right-color: var(--fill-color);\n",
              "      border-bottom-color: var(--fill-color);\n",
              "    }\n",
              "    90% {\n",
              "      border-color: transparent;\n",
              "      border-bottom-color: var(--fill-color);\n",
              "    }\n",
              "  }\n",
              "</style>\n",
              "\n",
              "  <script>\n",
              "    async function quickchart(key) {\n",
              "      const quickchartButtonEl =\n",
              "        document.querySelector('#' + key + ' button');\n",
              "      quickchartButtonEl.disabled = true;  // To prevent multiple clicks.\n",
              "      quickchartButtonEl.classList.add('colab-df-spinner');\n",
              "      try {\n",
              "        const charts = await google.colab.kernel.invokeFunction(\n",
              "            'suggestCharts', [key], {});\n",
              "      } catch (error) {\n",
              "        console.error('Error during call to suggestCharts:', error);\n",
              "      }\n",
              "      quickchartButtonEl.classList.remove('colab-df-spinner');\n",
              "      quickchartButtonEl.classList.add('colab-df-quickchart-complete');\n",
              "    }\n",
              "    (() => {\n",
              "      let quickchartButtonEl =\n",
              "        document.querySelector('#df-442f5965-1dab-4721-a0e0-015380976e4e button');\n",
              "      quickchartButtonEl.style.display =\n",
              "        google.colab.kernel.accessAllowed ? 'block' : 'none';\n",
              "    })();\n",
              "  </script>\n",
              "</div>\n",
              "\n",
              "    </div>\n",
              "  </div>\n"
            ],
            "application/vnd.google.colaboratory.intrinsic+json": {
              "type": "dataframe",
              "variable_name": "all_mbti"
            }
          },
          "metadata": {},
          "execution_count": 22
        }
      ],
      "source": [
        "all_mbti.head()"
      ]
    },
    {
      "cell_type": "markdown",
      "metadata": {
        "id": "wzM8TbWBU__h"
      },
      "source": [
        "### Remove punctuation\n",
        "\n",
        "First we make all the text lowercase to remove some noise from capitalisation."
      ]
    },
    {
      "cell_type": "code",
      "execution_count": 23,
      "metadata": {
        "id": "CUATZmo5U__h",
        "jupyter": {
          "outputs_hidden": true
        }
      },
      "outputs": [],
      "source": [
        "all_mbti['post'] = all_mbti['post'].str.lower()"
      ]
    },
    {
      "cell_type": "markdown",
      "metadata": {
        "id": "lpvNRM5khxxE"
      },
      "source": [
        "Now let's remove the punctuation using the `string` import."
      ]
    },
    {
      "cell_type": "code",
      "execution_count": 24,
      "metadata": {
        "colab": {
          "base_uri": "https://localhost:8080/"
        },
        "id": "gvhXxcHzU__j",
        "outputId": "065e5227-3fad-456a-c139-ddffe8821649"
      },
      "outputs": [
        {
          "output_type": "stream",
          "name": "stdout",
          "text": [
            "!\"#$%&'()*+,-./:;<=>?@[\\]^_`{|}~\n"
          ]
        }
      ],
      "source": [
        "import string\n",
        "print(string.punctuation)"
      ]
    },
    {
      "cell_type": "code",
      "execution_count": 25,
      "metadata": {
        "id": "A-RPGgE5U__l",
        "jupyter": {
          "outputs_hidden": true
        }
      },
      "outputs": [],
      "source": [
        "def remove_punctuation(post):\n",
        "    return ''.join([l for l in post if l not in string.punctuation])"
      ]
    },
    {
      "cell_type": "code",
      "execution_count": 26,
      "metadata": {
        "colab": {
          "base_uri": "https://localhost:8080/",
          "height": 53
        },
        "id": "2sFFdyNCU__n",
        "outputId": "a132b071-ddbc-4542-acd6-08095b61951a"
      },
      "outputs": [
        {
          "output_type": "execute_result",
          "data": {
            "text/plain": [
              "'just when i think i’ve lost you just when i’m so tired i toss away the fight and say “i’ll just embrace my demons then… ‘cause you feel so far away and i’ll never be your angel” —that’s when'"
            ],
            "application/vnd.google.colaboratory.intrinsic+json": {
              "type": "string"
            }
          },
          "metadata": {},
          "execution_count": 26
        }
      ],
      "source": [
        "all_mbti['post'] = all_mbti['post'].apply(remove_punctuation)\n",
        "all_mbti['post'].iloc[268558]"
      ]
    },
    {
      "cell_type": "markdown",
      "metadata": {
        "id": "FvA-QZmRU__r"
      },
      "source": [
        "### Tokenisation"
      ]
    },
    {
      "cell_type": "markdown",
      "metadata": {
        "id": "sRDkqnGgU__s"
      },
      "source": [
        "A tokeniser divides text into a sequence of tokens, which roughly correspond to \"words\" (see the [Stanford Tokeniser](https://nlp.stanford.edu/software/tokenizer.html)). We will use tokenisers to clean up the data, making it ready for analysis."
      ]
    },
    {
      "cell_type": "code",
      "execution_count": 27,
      "metadata": {
        "id": "X9nnIjyhU__t",
        "jupyter": {
          "outputs_hidden": true
        }
      },
      "outputs": [],
      "source": [
        "from nltk.tokenize import word_tokenize, TreebankWordTokenizer"
      ]
    },
    {
      "cell_type": "code",
      "execution_count": null,
      "metadata": {
        "id": "stR6cyC_U__v"
      },
      "outputs": [],
      "source": [
        "word_tokenize('A tokenizer divides text into a sequence of tokens, which roughly correspond to \"words\".')"
      ]
    },
    {
      "cell_type": "markdown",
      "metadata": {
        "id": "n0zNW370hxxR"
      },
      "source": [
        "We will use the TreeBankWordTokenizer since it is MUCH quicker than the word_tokenize function."
      ]
    },
    {
      "cell_type": "code",
      "execution_count": 29,
      "metadata": {
        "id": "V2rChKdjU__y",
        "jupyter": {
          "outputs_hidden": true
        }
      },
      "outputs": [],
      "source": [
        "# Tokenise the text using the TreebankWordTokenizer\n",
        "tokeniser = TreebankWordTokenizer()\n",
        "all_mbti['tokens'] = all_mbti['post'].apply(tokeniser.tokenize)"
      ]
    },
    {
      "cell_type": "code",
      "execution_count": 30,
      "metadata": {
        "colab": {
          "base_uri": "https://localhost:8080/"
        },
        "id": "I8o8u2kwU__1",
        "outputId": "59fac865-18e2-4559-dd0a-0abe45b20aa0"
      },
      "outputs": [
        {
          "output_type": "execute_result",
          "data": {
            "text/plain": [
              "['i',\n",
              " 'find',\n",
              " 'all',\n",
              " 'of',\n",
              " 'you',\n",
              " 'to',\n",
              " 'be',\n",
              " 'extremely',\n",
              " 'humorous',\n",
              " 'now',\n",
              " 'to',\n",
              " 'find',\n",
              " 'other',\n",
              " 'specimen',\n",
              " 'to',\n",
              " 'observe']"
            ]
          },
          "metadata": {},
          "execution_count": 30
        }
      ],
      "source": [
        "all_mbti['tokens'].iloc[55555]"
      ]
    },
    {
      "cell_type": "markdown",
      "metadata": {
        "id": "hAUkklVXU__6"
      },
      "source": [
        "### Stemming"
      ]
    },
    {
      "cell_type": "markdown",
      "metadata": {
        "id": "qlw3iqz3U__7"
      },
      "source": [
        "Stemming is the process of transforming to the root word. It uses an algorithm that removes\n",
        "common word endings from English words, such as “ly”, “es”, “ed”, and “s”.\n",
        "\n",
        "For instance, suppose you're conducting an analysis and you wish to treat words like \"carefully\", \"cared\", \"cares\", and \"caringly\" as a single entity, \"care\", rather than separate words. There are three widely used stemming algorithms, namely:\n",
        "* Porter\n",
        "* Lancaster\n",
        "* Snowball\n",
        "\n",
        "Out of these three, we will be using the `SnowballStemmer`."
      ]
    },
    {
      "cell_type": "code",
      "execution_count": 31,
      "metadata": {
        "id": "BRY-EGeuU__7",
        "jupyter": {
          "outputs_hidden": true
        }
      },
      "outputs": [],
      "source": [
        "from nltk import SnowballStemmer, PorterStemmer, LancasterStemmer"
      ]
    },
    {
      "cell_type": "code",
      "execution_count": 32,
      "metadata": {
        "id": "q5hmBs_DU__-",
        "jupyter": {
          "outputs_hidden": true
        }
      },
      "outputs": [],
      "source": [
        "words = 'caring cares cared caringly carefully'"
      ]
    },
    {
      "cell_type": "code",
      "execution_count": 33,
      "metadata": {
        "colab": {
          "base_uri": "https://localhost:8080/"
        },
        "id": "ILU4MAgaVAAA",
        "outputId": "5e92e444-8c07-4dd1-8245-03a63a4c82c5"
      },
      "outputs": [
        {
          "output_type": "stream",
          "name": "stdout",
          "text": [
            "care\n",
            "care\n",
            "care\n",
            "care\n",
            "care\n"
          ]
        }
      ],
      "source": [
        "# find the stem of each word in words\n",
        "stemmer = SnowballStemmer('english')\n",
        "for word in words.split():\n",
        "    print(stemmer.stem(word))"
      ]
    },
    {
      "cell_type": "markdown",
      "metadata": {
        "id": "JbXuaAUDhxxS"
      },
      "source": [
        "Now let us stem all of the words in the MBTI DataFrame."
      ]
    },
    {
      "cell_type": "code",
      "execution_count": 34,
      "metadata": {
        "id": "0iw9106FVAAE",
        "jupyter": {
          "outputs_hidden": true
        }
      },
      "outputs": [],
      "source": [
        "def mbti_stemmer(words, stemmer):\n",
        "    return [stemmer.stem(word) for word in words]"
      ]
    },
    {
      "cell_type": "code",
      "execution_count": 35,
      "metadata": {
        "id": "NjTuPQNOVAAF"
      },
      "outputs": [],
      "source": [
        "all_mbti['stem'] = all_mbti['tokens'].apply(mbti_stemmer, args=(stemmer, ))"
      ]
    },
    {
      "cell_type": "markdown",
      "metadata": {
        "id": "IhnwWV9chxxT"
      },
      "source": [
        "Print the results of the stemmer to see what we have done."
      ]
    },
    {
      "cell_type": "code",
      "execution_count": 36,
      "metadata": {
        "colab": {
          "base_uri": "https://localhost:8080/"
        },
        "id": "alDaVfdnhxxT",
        "outputId": "8b6ff955-9faf-4aa4-97f4-fccf37fee886"
      },
      "outputs": [
        {
          "output_type": "stream",
          "name": "stdout",
          "text": [
            "i                    --> i         \n",
            "hate                 --> hate      \n",
            "april                --> april     \n",
            "fools                --> fool      \n",
            "day                  --> day       \n",
            "angry                --> angri     \n",
            "theres               --> there     \n",
            "a                    --> a         \n",
            "site                 --> site      \n",
            "im                   --> im        \n",
            "regularly            --> regular   \n",
            "on                   --> on        \n",
            "and                  --> and       \n",
            "the                  --> the       \n",
            "admins               --> admin     \n",
            "are                  --> are       \n",
            "screwing             --> screw     \n",
            "everything           --> everyth   \n",
            "up                   --> up        \n",
            "today                --> today     \n",
            "for                  --> for       \n",
            "a                    --> a         \n",
            "laugh                --> laugh     \n",
            "but                  --> but       \n",
            "i                    --> i         \n",
            "dont                 --> dont      \n",
            "find                 --> find      \n",
            "it                   --> it        \n",
            "funny                --> funni     \n",
            "im                   --> im        \n",
            "actually             --> actual    \n",
            "quite                --> quit      \n",
            "freaked              --> freak     \n",
            "out                  --> out       \n",
            "about                --> about     \n",
            "it                   --> it        \n"
          ]
        }
      ],
      "source": [
        "for i, t in enumerate(all_mbti.iloc[268702]['tokens']):\n",
        "    print ('{:20s} --> {:10s}'.format(t, all_mbti.iloc[268702]['stem'][i]))"
      ]
    },
    {
      "cell_type": "markdown",
      "metadata": {
        "id": "rFln-NFtVAAI"
      },
      "source": [
        "### Lemmatization\n",
        "\n",
        "Lemmatization is another text normalisation technique that aims to reduce words to their base or dictionary form, known as lemmas. Unlike stemming, which simply removes word endings, lemmatization considers the context of the word and morphological analysis to accurately derive the lemma. This ensures that the resulting lemma is a valid word found in the dictionary, preserving the semantic meaning of the word in different contexts. While lemmatization is more computationally intensive compared to stemming, it offers higher accuracy in maintaining the integrity of words.\n",
        "\n",
        "Sometimes, we may end up with a word that closely resembles the original, while in other cases, we might get a word that is entirely different. Let's explore some examples to illustrate this."
      ]
    },
    {
      "cell_type": "code",
      "execution_count": 37,
      "metadata": {
        "colab": {
          "base_uri": "https://localhost:8080/"
        },
        "id": "nivlmH3rVAAJ",
        "outputId": "f9816b03-4c66-4468-9cce-95af33d1fd31"
      },
      "outputs": [
        {
          "output_type": "stream",
          "name": "stderr",
          "text": [
            "[nltk_data] Downloading package wordnet to /root/nltk_data...\n"
          ]
        },
        {
          "output_type": "stream",
          "name": "stdout",
          "text": [
            "cat\n",
            "cactus\n",
            "goose\n",
            "rock\n",
            "python\n",
            "good\n",
            "best\n",
            "run\n",
            "run\n"
          ]
        }
      ],
      "source": [
        "from nltk.stem import WordNetLemmatizer\n",
        "nltk.download('wordnet')\n",
        "\n",
        "lemmatizer = WordNetLemmatizer()\n",
        "\n",
        "print(lemmatizer.lemmatize(\"cats\"))\n",
        "print(lemmatizer.lemmatize(\"cacti\"))\n",
        "print(lemmatizer.lemmatize(\"geese\"))\n",
        "print(lemmatizer.lemmatize(\"rocks\"))\n",
        "print(lemmatizer.lemmatize(\"python\"))\n",
        "print(lemmatizer.lemmatize(\"better\", pos=\"a\"))\n",
        "print(lemmatizer.lemmatize(\"best\", pos=\"a\"))\n",
        "print(lemmatizer.lemmatize(\"run\"))\n",
        "print(lemmatizer.lemmatize(\"ran\",'v'))"
      ]
    },
    {
      "cell_type": "markdown",
      "metadata": {
        "id": "geKiJduLhxxT"
      },
      "source": [
        "Let's lemmatize all of the words in the MBTI DataFrame."
      ]
    },
    {
      "cell_type": "code",
      "execution_count": 38,
      "metadata": {
        "id": "A8ejyfxbVAAK",
        "jupyter": {
          "outputs_hidden": true
        }
      },
      "outputs": [],
      "source": [
        "def mbti_lemma(words, lemmatizer):\n",
        "    return [lemmatizer.lemmatize(word) for word in words]"
      ]
    },
    {
      "cell_type": "code",
      "execution_count": 39,
      "metadata": {
        "id": "sxUiwXfIVAAN",
        "jupyter": {
          "outputs_hidden": true
        }
      },
      "outputs": [],
      "source": [
        "all_mbti['lemma'] = all_mbti['tokens'].apply(mbti_lemma, args=(lemmatizer, ))"
      ]
    },
    {
      "cell_type": "markdown",
      "metadata": {
        "id": "4qmtDC6AhxxU"
      },
      "source": [
        "Now we will print out the results of the lemmatization to see what we have done."
      ]
    },
    {
      "cell_type": "code",
      "execution_count": 40,
      "metadata": {
        "colab": {
          "base_uri": "https://localhost:8080/"
        },
        "id": "S3loMYtFVAAO",
        "outputId": "ca99615d-a343-4aa7-d500-77c6412f13a6"
      },
      "outputs": [
        {
          "output_type": "stream",
          "name": "stdout",
          "text": [
            "i                    --> i         \n",
            "hate                 --> hate      \n",
            "april                --> april     \n",
            "fools                --> fool      \n",
            "day                  --> day       \n",
            "angry                --> angry     \n",
            "theres               --> there     \n",
            "a                    --> a         \n",
            "site                 --> site      \n",
            "im                   --> im        \n",
            "regularly            --> regularly \n",
            "on                   --> on        \n",
            "and                  --> and       \n",
            "the                  --> the       \n",
            "admins               --> admins    \n",
            "are                  --> are       \n",
            "screwing             --> screwing  \n",
            "everything           --> everything\n",
            "up                   --> up        \n",
            "today                --> today     \n",
            "for                  --> for       \n",
            "a                    --> a         \n",
            "laugh                --> laugh     \n",
            "but                  --> but       \n",
            "i                    --> i         \n",
            "dont                 --> dont      \n",
            "find                 --> find      \n",
            "it                   --> it        \n",
            "funny                --> funny     \n",
            "im                   --> im        \n",
            "actually             --> actually  \n",
            "quite                --> quite     \n",
            "freaked              --> freaked   \n",
            "out                  --> out       \n",
            "about                --> about     \n",
            "it                   --> it        \n"
          ]
        }
      ],
      "source": [
        "for i, t in enumerate(all_mbti.iloc[268702]['tokens']):\n",
        "    print ('{:20s} --> {:10s}'.format(t, all_mbti.iloc[268702]['lemma'][i]))"
      ]
    },
    {
      "cell_type": "markdown",
      "metadata": {
        "id": "UZomXVzoVAAR"
      },
      "source": [
        "### Stop words"
      ]
    },
    {
      "cell_type": "markdown",
      "metadata": {
        "id": "v_7g3o3SVAAR"
      },
      "source": [
        "Stop words are words that do not contain important significance to be used in search queries. Usually, these words are filtered out from search queries because they return a vast amount of unnecessary information. `nltk` has a corpus of stop words. Let's print out the stop words for English."
      ]
    },
    {
      "cell_type": "code",
      "execution_count": 41,
      "metadata": {
        "colab": {
          "base_uri": "https://localhost:8080/"
        },
        "id": "_XY1p3uZVAAS",
        "outputId": "b10ceded-e2fc-4d38-ee41-35c1619de871"
      },
      "outputs": [
        {
          "output_type": "stream",
          "name": "stdout",
          "text": [
            "['a', 'about', 'above', 'after', 'again', 'against', 'ain', 'all', 'am', 'an', 'and', 'any', 'are', 'aren', \"aren't\", 'as', 'at', 'be', 'because', 'been', 'before', 'being', 'below', 'between', 'both', 'but', 'by', 'can', 'couldn', \"couldn't\", 'd', 'did', 'didn', \"didn't\", 'do', 'does', 'doesn', \"doesn't\", 'doing', 'don', \"don't\", 'down', 'during', 'each', 'few', 'for', 'from', 'further', 'had', 'hadn', \"hadn't\", 'has', 'hasn', \"hasn't\", 'have', 'haven', \"haven't\", 'having', 'he', \"he'd\", \"he'll\", 'her', 'here', 'hers', 'herself', \"he's\", 'him', 'himself', 'his', 'how', 'i', \"i'd\", 'if', \"i'll\", \"i'm\", 'in', 'into', 'is', 'isn', \"isn't\", 'it', \"it'd\", \"it'll\", \"it's\", 'its', 'itself', \"i've\", 'just', 'll', 'm', 'ma', 'me', 'mightn', \"mightn't\", 'more', 'most', 'mustn', \"mustn't\", 'my', 'myself', 'needn', \"needn't\", 'no', 'nor', 'not', 'now', 'o', 'of', 'off', 'on', 'once', 'only', 'or', 'other', 'our', 'ours', 'ourselves', 'out', 'over', 'own', 're', 's', 'same', 'shan', \"shan't\", 'she', \"she'd\", \"she'll\", \"she's\", 'should', 'shouldn', \"shouldn't\", \"should've\", 'so', 'some', 'such', 't', 'than', 'that', \"that'll\", 'the', 'their', 'theirs', 'them', 'themselves', 'then', 'there', 'these', 'they', \"they'd\", \"they'll\", \"they're\", \"they've\", 'this', 'those', 'through', 'to', 'too', 'under', 'until', 'up', 've', 'very', 'was', 'wasn', \"wasn't\", 'we', \"we'd\", \"we'll\", \"we're\", 'were', 'weren', \"weren't\", \"we've\", 'what', 'when', 'where', 'which', 'while', 'who', 'whom', 'why', 'will', 'with', 'won', \"won't\", 'wouldn', \"wouldn't\", 'y', 'you', \"you'd\", \"you'll\", 'your', \"you're\", 'yours', 'yourself', 'yourselves', \"you've\"]\n"
          ]
        }
      ],
      "source": [
        "from nltk.corpus import stopwords\n",
        "print(stopwords.words('english'))"
      ]
    },
    {
      "cell_type": "code",
      "execution_count": 42,
      "metadata": {
        "colab": {
          "base_uri": "https://localhost:8080/"
        },
        "id": "rD6ovPGLVAAW",
        "outputId": "b6ccf9e1-e954-44cc-dafa-c36e3b9b9e17"
      },
      "outputs": [
        {
          "output_type": "execute_result",
          "data": {
            "text/plain": [
              "['a', 'about', 'above', 'after', 'again', 'against', 'ain', 'all', 'am', 'an']"
            ]
          },
          "metadata": {},
          "execution_count": 42
        }
      ],
      "source": [
        "sorted(stopwords.words('english'))[0:10]"
      ]
    },
    {
      "cell_type": "markdown",
      "metadata": {
        "id": "vQ8iOy0ahxxV"
      },
      "source": [
        "The following function removes all of the English stop words from the input text."
      ]
    },
    {
      "cell_type": "code",
      "execution_count": 43,
      "metadata": {
        "id": "GPDdMJ2SVAAX",
        "jupyter": {
          "outputs_hidden": true
        }
      },
      "outputs": [],
      "source": [
        "def remove_stop_words(tokens):\n",
        "    return [t for t in tokens if t not in stopwords.words('english')]"
      ]
    },
    {
      "cell_type": "markdown",
      "metadata": {
        "id": "G5PBwZRUVAAb"
      },
      "source": [
        "To remove stop words, simply uncomment and execute the following cell! Please note, however, that this process may take a while due to the computational load imposed by the Pandas apply function."
      ]
    },
    {
      "cell_type": "code",
      "execution_count": null,
      "metadata": {
        "id": "kyeHeXlAVAAb",
        "jupyter": {
          "outputs_hidden": true
        }
      },
      "outputs": [],
      "source": [
        "# all_mbti['stem'] = all_mbti['tokens'].apply(remove_stop_words)\n",
        "#all_mbti['stem']"
      ]
    },
    {
      "cell_type": "markdown",
      "metadata": {
        "id": "g8FZFTINhxxV"
      },
      "source": [
        "# Conclusion\n",
        "\n",
        "\n",
        "In conclusion, mastering text-cleaning techniques and feature extraction in natural language processing (NLP) is crucial for effectively preparing unstructured text data for analysis and machine learning tasks. Through methods such as removing noise like URLs, converting text to lowercase, removing punctuation, tokenisation, stemming, lemmatization, and stop word removal, we can enhance the quality of text data and extract meaningful features for further analysis. These techniques play a fundamental role in NLP pipelines, enabling the development of robust models and gaining valuable insights from textual data."
      ]
    }
  ],
  "metadata": {
    "colab": {
      "collapsed_sections": [
        "VCXae5QXU__Z",
        "wzM8TbWBU__h",
        "FvA-QZmRU__r",
        "hAUkklVXU__6",
        "rFln-NFtVAAI",
        "UZomXVzoVAAR",
        "qp-n688CVAAc",
        "tGmGzrbsVAAf",
        "oFzCFS89VABM",
        "TlO1q-zlVABg"
      ],
      "provenance": []
    },
    "kernelspec": {
      "display_name": "Python 3",
      "language": "python",
      "name": "python3"
    },
    "language_info": {
      "codemirror_mode": {
        "name": "ipython",
        "version": 3
      },
      "file_extension": ".py",
      "mimetype": "text/x-python",
      "name": "python",
      "nbconvert_exporter": "python",
      "pygments_lexer": "ipython3",
      "version": "3.11.4"
    }
  },
  "nbformat": 4,
  "nbformat_minor": 0
}